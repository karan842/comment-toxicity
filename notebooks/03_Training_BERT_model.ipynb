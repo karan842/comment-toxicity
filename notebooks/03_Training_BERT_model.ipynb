{
 "cells": [
  {
   "cell_type": "markdown",
   "metadata": {},
   "source": [
    "# **<center> Toxic Comment Classification </center>**"
   ]
  },
  {
   "cell_type": "markdown",
   "metadata": {},
   "source": [
    "## **Problem Statement** \n",
    "\n",
    "### **“To build a multi-headed model that’s capable of detecting different types of toxicity like threats, obscenity, insults, and identity-based hate.”**"
   ]
  },
  {
   "cell_type": "markdown",
   "metadata": {},
   "source": [
    "# **<center>Running this notebook on Kaggle for using better acceleration power for model training.<center>**"
   ]
  },
  {
   "cell_type": "markdown",
   "metadata": {},
   "source": [
    "# **Import Required Libraries.**"
   ]
  },
  {
   "cell_type": "code",
   "execution_count": 2,
   "metadata": {
    "execution": {
     "iopub.execute_input": "2022-12-21T13:23:29.228473Z",
     "iopub.status.busy": "2022-12-21T13:23:29.227807Z",
     "iopub.status.idle": "2022-12-21T13:23:29.235224Z",
     "shell.execute_reply": "2022-12-21T13:23:29.234308Z",
     "shell.execute_reply.started": "2022-12-21T13:23:29.228433Z"
    }
   },
   "outputs": [],
   "source": [
    "import os\n",
    "import re\n",
    "import string\n",
    "import numpy as np # linear algebra\n",
    "import pandas as pd # data processing, CSV file I/O (e.g. pd.read_csv)\n",
    "from itertools import groupby\n",
    "from sklearn.model_selection import train_test_split\n",
    "\n",
    "import tensorflow as tf\n",
    "import tensorflow_hub as hub\n",
    "import tensorflow_text as text\n",
    "import nltk\n",
    "from nltk.corpus import stopwords"
   ]
  },
  {
   "cell_type": "code",
   "execution_count": 3,
   "metadata": {
    "_kg_hide-input": true,
    "execution": {
     "iopub.execute_input": "2022-12-21T13:23:29.953202Z",
     "iopub.status.busy": "2022-12-21T13:23:29.952845Z",
     "iopub.status.idle": "2022-12-21T13:23:29.958662Z",
     "shell.execute_reply": "2022-12-21T13:23:29.957718Z",
     "shell.execute_reply.started": "2022-12-21T13:23:29.953173Z"
    }
   },
   "outputs": [],
   "source": [
    "list_classes = [\"toxic\", \"severe_toxic\", \"obscene\", \"threat\", \"insult\", \"identity_hate\"]"
   ]
  },
  {
   "cell_type": "markdown",
   "metadata": {},
   "source": [
    "# **Loading data**"
   ]
  },
  {
   "cell_type": "code",
   "execution_count": 4,
   "metadata": {
    "execution": {
     "iopub.execute_input": "2022-12-21T13:23:33.079869Z",
     "iopub.status.busy": "2022-12-21T13:23:33.079191Z",
     "iopub.status.idle": "2022-12-21T13:23:35.829235Z",
     "shell.execute_reply": "2022-12-21T13:23:35.828276Z",
     "shell.execute_reply.started": "2022-12-21T13:23:33.079831Z"
    }
   },
   "outputs": [],
   "source": [
    "train = pd.read_csv('/kaggle/input/jigsaw-toxic-comment-classification-challenge/train.csv.zip')\n",
    "test = pd.read_csv('/kaggle/input/jigsaw-toxic-comment-classification-challenge/test.csv.zip')"
   ]
  },
  {
   "cell_type": "markdown",
   "metadata": {},
   "source": [
    "## Data Cleaning\n",
    "\n",
    "- This step is already derived in DVC pipeline to automate the process of data cleaning."
   ]
  },
  {
   "cell_type": "markdown",
   "metadata": {},
   "source": [
    "## Removing duplicate sentence"
   ]
  },
  {
   "cell_type": "code",
   "execution_count": 5,
   "metadata": {
    "execution": {
     "iopub.execute_input": "2022-12-21T13:23:35.831493Z",
     "iopub.status.busy": "2022-12-21T13:23:35.831115Z",
     "iopub.status.idle": "2022-12-21T13:23:35.838446Z",
     "shell.execute_reply": "2022-12-21T13:23:35.837264Z",
     "shell.execute_reply.started": "2022-12-21T13:23:35.831458Z"
    }
   },
   "outputs": [],
   "source": [
    "# Removing duplicates, if words occured more than  2 times in comment.\n",
    "def remove_duplicates(text_before):\n",
    "    my_dict = dict()\n",
    "    text_after = list()\n",
    "    for word in text_before.split():\n",
    "        if word not in my_dict.keys():\n",
    "            my_dict[word] = 1\n",
    "        else:\n",
    "            my_dict[word] = my_dict[word] + 1\n",
    "    \n",
    "    for key,value in my_dict.items():\n",
    "        if value>=2:\n",
    "            text_after.append(key)\n",
    "        else:\n",
    "            text_after.append(key)\n",
    "    return \" \".join(text_after)"
   ]
  },
  {
   "cell_type": "code",
   "execution_count": 6,
   "metadata": {
    "execution": {
     "iopub.execute_input": "2022-12-21T13:23:35.841074Z",
     "iopub.status.busy": "2022-12-21T13:23:35.840231Z",
     "iopub.status.idle": "2022-12-21T13:23:44.683527Z",
     "shell.execute_reply": "2022-12-21T13:23:44.682578Z",
     "shell.execute_reply.started": "2022-12-21T13:23:35.840964Z"
    }
   },
   "outputs": [],
   "source": [
    "train['comment_text_clean'] = train['comment_text'].apply(lambda text : remove_duplicates(text))\n",
    "test['comment_text_clean'] = test['comment_text'].apply(lambda text : remove_duplicates(text))\n",
    "# length of comments\n",
    "train['comment_text_len'] = train['comment_text_clean'].apply(lambda x : len(x.split())) "
   ]
  },
  {
   "cell_type": "markdown",
   "metadata": {},
   "source": [
    "## Clean text"
   ]
  },
  {
   "cell_type": "code",
   "execution_count": 7,
   "metadata": {
    "execution": {
     "iopub.execute_input": "2022-12-21T13:23:44.686380Z",
     "iopub.status.busy": "2022-12-21T13:23:44.686011Z",
     "iopub.status.idle": "2022-12-21T13:24:01.029444Z",
     "shell.execute_reply": "2022-12-21T13:24:01.028468Z",
     "shell.execute_reply.started": "2022-12-21T13:23:44.686343Z"
    }
   },
   "outputs": [],
   "source": [
    "# \"clean_text\" function clean the text/comments \n",
    "def clean_text(text):\n",
    "    \"\"\"Make text lowercase, remove text in square brackets, remove links,remove punctuation\n",
    "    and remove stop words containing numbers\"\"\"\n",
    "    text = text.lower()                                            # Converts the text to lowercase using regex \n",
    "    text = re.sub(r\"\\[.*?\\]\",\"\",text)                              # Replace's the text into 'nothing\" if text is present inside squre brackets.\n",
    "    text = re.sub(\"https?://\\S+|www\\.\\S+\",\"\",text)                 # Removes the links from the comments.\n",
    "    text = re.sub(\"<.*?>+\",\"\",text)                                # Remove unwanted\n",
    "    text = re.sub(\"[%s]\" % re.escape(string.punctuation),\"\",text)  # Remove punctuations\n",
    "    text = re.sub(\"\\n\",\"\",text)                                    # Remove next line symbols '\\n'\n",
    "    text = re.sub(\"\\w*\\d\\w*\",\"\",text)                              # Takes only albhabet and digits.\n",
    "    return text\n",
    "train['comment_text_clean'] = train['comment_text_clean'].apply(lambda text : clean_text(text))\n",
    "test['comment_text_clean'] = test['comment_text_clean'].apply(lambda text : clean_text(text))"
   ]
  },
  {
   "cell_type": "code",
   "execution_count": 8,
   "metadata": {
    "execution": {
     "iopub.execute_input": "2022-12-21T13:24:01.031476Z",
     "iopub.status.busy": "2022-12-21T13:24:01.031071Z",
     "iopub.status.idle": "2022-12-21T13:24:32.066098Z",
     "shell.execute_reply": "2022-12-21T13:24:32.064856Z",
     "shell.execute_reply.started": "2022-12-21T13:24:01.031437Z"
    }
   },
   "outputs": [],
   "source": [
    "## Removing stop words\n",
    "\n",
    "\n",
    "# Remove stop words from comments.\n",
    "stop_words = stopwords.words('english')\n",
    "more_stopwords = ['u', 'im', 'c']\n",
    "stop_words = stop_words + more_stopwords\n",
    "\n",
    "def remove_stopwords(text):\n",
    "    text = ' '.join(word for word in text.split(' ') if word not in stop_words)\n",
    "    return text\n",
    "    \n",
    "train['comment_text_clean'] = train['comment_text_clean'].apply(remove_stopwords)\n",
    "test['comment_text_clean'] = test['comment_text_clean'].apply(remove_stopwords)\n",
    "\n"
   ]
  },
  {
   "cell_type": "code",
   "execution_count": 9,
   "metadata": {
    "execution": {
     "iopub.execute_input": "2022-12-21T13:24:32.071704Z",
     "iopub.status.busy": "2022-12-21T13:24:32.070967Z",
     "iopub.status.idle": "2022-12-21T13:24:32.109175Z",
     "shell.execute_reply": "2022-12-21T13:24:32.108206Z",
     "shell.execute_reply.started": "2022-12-21T13:24:32.071659Z"
    }
   },
   "outputs": [],
   "source": [
    "# define variable to training data and target data.\n",
    "target_data = train[list_classes]\n",
    "train_data = train['comment_text_clean']"
   ]
  },
  {
   "cell_type": "code",
   "execution_count": 10,
   "metadata": {
    "execution": {
     "iopub.execute_input": "2022-12-21T13:24:32.111867Z",
     "iopub.status.busy": "2022-12-21T13:24:32.110440Z",
     "iopub.status.idle": "2022-12-21T13:24:32.116616Z",
     "shell.execute_reply": "2022-12-21T13:24:32.115679Z",
     "shell.execute_reply.started": "2022-12-21T13:24:32.111829Z"
    }
   },
   "outputs": [],
   "source": [
    "# Define BERT encoder url and processing url blocks from tensorflowhub\n",
    "encoder = \"https://tfhub.dev/tensorflow/bert_en_uncased_L-12_H-768_A-12/4\" \n",
    "preprocessing = \"https://tfhub.dev/tensorflow/bert_en_uncased_preprocess/3\""
   ]
  },
  {
   "cell_type": "code",
   "execution_count": 11,
   "metadata": {
    "execution": {
     "iopub.execute_input": "2022-12-21T13:25:02.207172Z",
     "iopub.status.busy": "2022-12-21T13:25:02.206816Z",
     "iopub.status.idle": "2022-12-21T13:25:20.436237Z",
     "shell.execute_reply": "2022-12-21T13:25:20.435235Z",
     "shell.execute_reply.started": "2022-12-21T13:25:02.207140Z"
    }
   },
   "outputs": [],
   "source": [
    "bert_preprocessing_model = hub.KerasLayer(preprocessing) # preprocessing step in bert-base model\n",
    "bert_model = hub.KerasLayer(encoder) # BERT-base model encoder"
   ]
  },
  {
   "cell_type": "code",
   "execution_count": 17,
   "metadata": {
    "execution": {
     "iopub.execute_input": "2022-12-21T14:38:39.110444Z",
     "iopub.status.busy": "2022-12-21T14:38:39.110046Z",
     "iopub.status.idle": "2022-12-21T14:38:39.261659Z",
     "shell.execute_reply": "2022-12-21T14:38:39.260720Z",
     "shell.execute_reply.started": "2022-12-21T14:38:39.110408Z"
    }
   },
   "outputs": [],
   "source": [
    "text_input = tf.keras.layers.Input(shape= (),dtype = tf.string,name = 'text')\n",
    "preprocessing = bert_preprocessing_model(text_input)\n",
    "output = bert_model(preprocessing)\n",
    "\n",
    "# Linear layer\n",
    "layer_1 = tf.keras.layers.Dropout(0.2,name = 'dropout')(output['pooled_output'])\n",
    "layer_2 = tf.keras.layers.Dense(len(list_classes),activation = 'sigmoid',name = 'output')(layer_1)\n",
    "\n",
    "model = tf.keras.Model(inputs = [text_input],outputs = [layer_2])"
   ]
  },
  {
   "cell_type": "code",
   "execution_count": 18,
   "metadata": {
    "execution": {
     "iopub.execute_input": "2022-12-21T14:38:42.130472Z",
     "iopub.status.busy": "2022-12-21T14:38:42.130086Z",
     "iopub.status.idle": "2022-12-21T14:38:42.141080Z",
     "shell.execute_reply": "2022-12-21T14:38:42.140150Z",
     "shell.execute_reply.started": "2022-12-21T14:38:42.130438Z"
    }
   },
   "outputs": [],
   "source": [
    "model.compile(loss='binary_crossentropy', optimizer='adam', metrics=['accuracy'])"
   ]
  },
  {
   "cell_type": "code",
   "execution_count": 19,
   "metadata": {
    "execution": {
     "iopub.execute_input": "2022-12-21T14:38:45.711488Z",
     "iopub.status.busy": "2022-12-21T14:38:45.710449Z",
     "iopub.status.idle": "2022-12-21T15:36:08.746643Z",
     "shell.execute_reply": "2022-12-21T15:36:08.745741Z",
     "shell.execute_reply.started": "2022-12-21T14:38:45.711441Z"
    }
   },
   "outputs": [
    {
     "name": "stdout",
     "output_type": "stream",
     "text": [
      "Epoch 1/3\n",
      "4488/4488 [==============================] - 1152s 256ms/step - loss: 0.0996 - accuracy: 0.8457 - val_loss: 0.0833 - val_accuracy: 0.8905\n",
      "Epoch 2/3\n",
      "4488/4488 [==============================] - 1148s 256ms/step - loss: 0.0865 - accuracy: 0.9353 - val_loss: 0.0798 - val_accuracy: 0.9921\n",
      "Epoch 3/3\n",
      "4488/4488 [==============================] - 1143s 255ms/step - loss: 0.0850 - accuracy: 0.9496 - val_loss: 0.0785 - val_accuracy: 0.9923\n"
     ]
    }
   ],
   "source": [
    "# Traning process with 10 epochs.\n",
    "history = model.fit(train_data,target_data,batch_size=32, epochs=3, validation_split=0.1)"
   ]
  },
  {
   "cell_type": "markdown",
   "metadata": {},
   "source": [
    "## Model evaluations"
   ]
  },
  {
   "cell_type": "code",
   "execution_count": 20,
   "metadata": {
    "execution": {
     "iopub.execute_input": "2022-12-21T15:41:49.320379Z",
     "iopub.status.busy": "2022-12-21T15:41:49.319992Z",
     "iopub.status.idle": "2022-12-21T15:41:49.570102Z",
     "shell.execute_reply": "2022-12-21T15:41:49.569188Z",
     "shell.execute_reply.started": "2022-12-21T15:41:49.320347Z"
    }
   },
   "outputs": [
    {
     "data": {
      "image/png": "[encoded data removed]",
      "text/plain": [
       "<Figure size 432x288 with 1 Axes>"
      ]
     },
     "metadata": {
      "needs_background": "light"
     },
     "output_type": "display_data"
    }
   ],
   "source": [
    "# summarize history for accuracy\n",
    "import matplotlib.pyplot as plt\n",
    "plt.plot(history.history['accuracy'])\n",
    "plt.plot(history.history['val_accuracy'])\n",
    "plt.title('Model Accuracy')\n",
    "plt.ylabel('Accuracy')\n",
    "plt.xlabel('Epoch')\n",
    "plt.legend(['train', 'val'],loc='upper left')\n",
    "plt.show()"
   ]
  },
  {
   "cell_type": "code",
   "execution_count": 21,
   "metadata": {
    "execution": {
     "iopub.execute_input": "2022-12-21T15:42:10.947998Z",
     "iopub.status.busy": "2022-12-21T15:42:10.947640Z",
     "iopub.status.idle": "2022-12-21T15:42:11.179754Z",
     "shell.execute_reply": "2022-12-21T15:42:11.178896Z",
     "shell.execute_reply.started": "2022-12-21T15:42:10.947966Z"
    }
   },
   "outputs": [
    {
     "data": {
      "image/png": "[encoded data removed]",
      "text/plain": [
       "<Figure size 432x288 with 1 Axes>"
      ]
     },
     "metadata": {
      "needs_background": "light"
     },
     "output_type": "display_data"
    }
   ],
   "source": [
    "# summarize history for loss\n",
    "plt.plot(history.history['loss'])\n",
    "plt.plot(history.history['val_loss'])\n",
    "plt.title('model loss')\n",
    "plt.ylabel('loss')\n",
    "plt.xlabel('epoch')\n",
    "plt.legend(['train', 'val'], loc='upper left')\n",
    "plt.show()"
   ]
  },
  {
   "cell_type": "code",
   "execution_count": 22,
   "metadata": {
    "execution": {
     "iopub.execute_input": "2022-12-21T15:42:20.347993Z",
     "iopub.status.busy": "2022-12-21T15:42:20.347416Z",
     "iopub.status.idle": "2022-12-21T15:42:47.768130Z",
     "shell.execute_reply": "2022-12-21T15:42:47.767140Z",
     "shell.execute_reply.started": "2022-12-21T15:42:20.347957Z"
    }
   },
   "outputs": [],
   "source": [
    "model.save('comment-toxicity-model')\n",
    "trained_model = tf.keras.models.load_model('comment-toxicity-model')"
   ]
  },
  {
   "cell_type": "code",
   "execution_count": 23,
   "metadata": {
    "execution": {
     "iopub.execute_input": "2022-12-21T15:45:55.144808Z",
     "iopub.status.busy": "2022-12-21T15:45:55.144432Z",
     "iopub.status.idle": "2022-12-21T15:45:56.063689Z",
     "shell.execute_reply": "2022-12-21T15:45:56.062698Z",
     "shell.execute_reply.started": "2022-12-21T15:45:55.144776Z"
    }
   },
   "outputs": [],
   "source": [
    "# in h5 format\n",
    "model.save('comment-toxicity-bert.h5')"
   ]
  },
  {
   "cell_type": "code",
   "execution_count": 24,
   "metadata": {
    "execution": {
     "iopub.execute_input": "2022-12-21T15:46:49.544490Z",
     "iopub.status.busy": "2022-12-21T15:46:49.544101Z",
     "iopub.status.idle": "2022-12-21T16:05:12.605281Z",
     "shell.execute_reply": "2022-12-21T16:05:12.604239Z",
     "shell.execute_reply.started": "2022-12-21T15:46:49.544454Z"
    }
   },
   "outputs": [],
   "source": [
    "## predict on test data\n",
    "y_pred = model.predict([test['comment_text_clean']])"
   ]
  },
  {
   "cell_type": "code",
   "execution_count": 25,
   "metadata": {
    "execution": {
     "iopub.execute_input": "2022-12-21T16:05:12.608080Z",
     "iopub.status.busy": "2022-12-21T16:05:12.607713Z",
     "iopub.status.idle": "2022-12-21T16:05:12.616907Z",
     "shell.execute_reply": "2022-12-21T16:05:12.615694Z",
     "shell.execute_reply.started": "2022-12-21T16:05:12.608044Z"
    }
   },
   "outputs": [
    {
     "data": {
      "text/plain": [
       "array([[9.44723308e-01, 2.79726535e-01, 9.04219627e-01, 5.74326925e-02,\n",
       "        8.68914127e-01, 1.63465947e-01],\n",
       "       [6.55019581e-02, 2.77014216e-03, 2.98291538e-02, 6.14686636e-04,\n",
       "        2.97778528e-02, 4.34153434e-03],\n",
       "       [1.59042943e-02, 1.85234868e-03, 1.04092136e-02, 5.89001924e-04,\n",
       "        1.04545979e-02, 1.92499976e-03],\n",
       "       ...,\n",
       "       [7.83141353e-04, 1.87115347e-05, 2.19224559e-04, 1.36397593e-05,\n",
       "        2.70310818e-04, 1.17232717e-04],\n",
       "       [2.61728512e-03, 8.63770765e-05, 4.71618812e-04, 1.14489165e-04,\n",
       "        9.02129803e-04, 1.39030360e-03],\n",
       "       [2.24328548e-01, 6.03006035e-03, 6.77523762e-02, 3.43211298e-03,\n",
       "        1.07299365e-01, 2.20831623e-03]], dtype=float32)"
      ]
     },
     "execution_count": 25,
     "metadata": {},
     "output_type": "execute_result"
    }
   ],
   "source": [
    "y_pred"
   ]
  },
  {
   "cell_type": "markdown",
   "metadata": {
    "execution": {
     "iopub.execute_input": "2022-12-21T12:35:58.713517Z",
     "iopub.status.busy": "2022-12-21T12:35:58.713161Z",
     "iopub.status.idle": "2022-12-21T12:35:58.733491Z",
     "shell.execute_reply": "2022-12-21T12:35:58.732017Z",
     "shell.execute_reply.started": "2022-12-21T12:35:58.713487Z"
    }
   },
   "source": [
    "## Testing on sample dataset"
   ]
  },
  {
   "cell_type": "code",
   "execution_count": 30,
   "metadata": {
    "execution": {
     "iopub.execute_input": "2022-12-21T16:05:54.932447Z",
     "iopub.status.busy": "2022-12-21T16:05:54.932060Z",
     "iopub.status.idle": "2022-12-21T16:05:54.938493Z",
     "shell.execute_reply": "2022-12-21T16:05:54.937188Z",
     "shell.execute_reply.started": "2022-12-21T16:05:54.932414Z"
    }
   },
   "outputs": [],
   "source": [
    "def classify(input_text, model, classes):\n",
    "    trained_model = model.predict([input_text])\n",
    "    output = np.where(trained_model > 0.5, 1,0)\n",
    "    for i,j in zip(classes,output[0]):\n",
    "        if j==1:\n",
    "            print(f\"{i} :\\t YES\")\n",
    "        if j==0:\n",
    "            print(f\"{i} :\\t NO\")"
   ]
  },
  {
   "cell_type": "code",
   "execution_count": 31,
   "metadata": {
    "execution": {
     "iopub.execute_input": "2022-12-21T16:05:55.799705Z",
     "iopub.status.busy": "2022-12-21T16:05:55.799372Z",
     "iopub.status.idle": "2022-12-21T16:05:55.875894Z",
     "shell.execute_reply": "2022-12-21T16:05:55.874975Z",
     "shell.execute_reply.started": "2022-12-21T16:05:55.799676Z"
    }
   },
   "outputs": [
    {
     "name": "stdout",
     "output_type": "stream",
     "text": [
      "toxic :\t YES\n",
      "severe_toxic :\t NO\n",
      "obscene :\t YES\n",
      "threat :\t NO\n",
      "insult :\t YES\n",
      "identity_hate :\t NO\n"
     ]
    }
   ],
   "source": [
    "classify('You bitch',trained_model,list_classes)"
   ]
  },
  {
   "cell_type": "code",
   "execution_count": 34,
   "metadata": {
    "execution": {
     "iopub.execute_input": "2022-12-21T16:06:43.402959Z",
     "iopub.status.busy": "2022-12-21T16:06:43.402578Z",
     "iopub.status.idle": "2022-12-21T16:06:43.485437Z",
     "shell.execute_reply": "2022-12-21T16:06:43.484544Z",
     "shell.execute_reply.started": "2022-12-21T16:06:43.402926Z"
    }
   },
   "outputs": [
    {
     "name": "stdout",
     "output_type": "stream",
     "text": [
      "toxic :\t YES\n",
      "severe_toxic :\t NO\n",
      "obscene :\t YES\n",
      "threat :\t NO\n",
      "insult :\t YES\n",
      "identity_hate :\t NO\n"
     ]
    }
   ],
   "source": [
    "classify(\"Fuking bastard\", trained_model, list_classes)"
   ]
  },
  {
   "cell_type": "code",
   "execution_count": null,
   "metadata": {},
   "outputs": [],
   "source": []
  }
 ],
 "metadata": {
  "kernelspec": {
   "display_name": "mlops",
   "language": "python",
   "name": "python3"
  },
  "language_info": {
   "codemirror_mode": {
    "name": "ipython",
    "version": 3
   },
   "file_extension": ".py",
   "mimetype": "text/x-python",
   "name": "python",
   "nbconvert_exporter": "python",
   "pygments_lexer": "ipython3",
   "version": "3.9.15 (main, Nov  4 2022, 16:35:55) [MSC v.1916 64 bit (AMD64)]"
  },
  "vscode": {
   "interpreter": {
    "hash": "ac05c2aaad8378d167ff572bd23434146962a08a6dc68ef192161789ad1821df"
   }
  }
 },
 "nbformat": 4,
 "nbformat_minor": 4
}
